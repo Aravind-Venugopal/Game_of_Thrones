{
  "nbformat": 4,
  "nbformat_minor": 0,
  "metadata": {
    "colab": {
      "name": "scrapping.ipynb",
      "version": "0.3.2",
      "provenance": [],
      "collapsed_sections": [],
      "include_colab_link": true
    },
    "kernelspec": {
      "name": "python3",
      "display_name": "Python 3"
    }
  },
  "cells": [
    {
      "cell_type": "markdown",
      "metadata": {
        "id": "view-in-github",
        "colab_type": "text"
      },
      "source": [
        "<a href=\"https://colab.research.google.com/github/shekharkoirala/Game_of_Thrones/blob/master/notebooks/scrapping.ipynb\" target=\"_parent\"><img src=\"https://colab.research.google.com/assets/colab-badge.svg\" alt=\"Open In Colab\"/></a>"
      ]
    },
    {
      "metadata": {
        "id": "oKb0_BeYiR_w",
        "colab_type": "text"
      },
      "cell_type": "markdown",
      "source": [
        "# ***Create data***"
      ]
    },
    {
      "metadata": {
        "id": "_LwtqVHuMvGa",
        "colab_type": "code",
        "colab": {}
      },
      "cell_type": "code",
      "source": [
        "import requests\n",
        "import urllib.request\n",
        "import time\n",
        "from bs4 import BeautifulSoup\n",
        "import os"
      ],
      "execution_count": 0,
      "outputs": []
    },
    {
      "metadata": {
        "id": "-1h9naHDNUbs",
        "colab_type": "code",
        "colab": {}
      },
      "cell_type": "code",
      "source": [
        "import re\n",
        "r = r\"(- )+\"\n",
        "\n",
        "def cleaner(text):\n",
        "  if text:\n",
        "    if re.findall(r, text):\n",
        "      return False\n",
        "    else:\n",
        "      return True\n",
        "    \n",
        "for season in range(7):\n",
        "  url = 'https://genius.com/albums/Game-of-thrones/Season-'+str(season+1)+'-scripts'\n",
        "  folder_name =  'season'+str(season+1)\n",
        "  os.mkdir(folder_name)\n",
        "  \n",
        "  response = requests.get(url)\n",
        "  soup = BeautifulSoup(response.text, 'html.parser')\n",
        "\n",
        "  a = soup.findAll(\"a\", {\"class\": \"u-display_block\"})\n",
        "  list_links = [data['href'] for data in a]\n",
        "\n",
        "\n",
        "  for key, link in enumerate(list_links):\n",
        "    url = link\n",
        "    response = requests.get(url)\n",
        "    soup = BeautifulSoup(response.content, 'html.parser')\n",
        "    a = soup.findAll(\"div\", {\"class\": \"lyrics\"})\n",
        "    data = a[0].text.split('\\n')\n",
        "    data  = [text for text in data if cleaner(text)]\n",
        "    with open(folder_name +\"/e\"+str(key+1)+\".txt\", \"w\") as f:\n",
        "      for text in data:\n",
        "        f.write(text)\n",
        "        f.write(\"\\n\")\n",
        "  "
      ],
      "execution_count": 0,
      "outputs": []
    },
    {
      "metadata": {
        "id": "Y-z8WtvnX9Gj",
        "colab_type": "code",
        "colab": {}
      },
      "cell_type": "code",
      "source": [
        "\n",
        "folders = ['season' + str(data+1) for data in range(7)]\n",
        "  \n",
        "\n",
        "master_list =[folder+ '/' +file for folder in folders for file in sorted(os.listdir(folder), key=lambda s: int(s[1:-4]))]\n",
        "with open('final_data.txt', 'w') as outfile:\n",
        "    for files in master_list:\n",
        "        with open(files) as infile:\n",
        "            for line in infile:\n",
        "                outfile.write(line)"
      ],
      "execution_count": 0,
      "outputs": []
    },
    {
      "metadata": {
        "id": "rfKahqSrZmp3",
        "colab_type": "code",
        "colab": {
          "base_uri": "https://localhost:8080/",
          "height": 51
        },
        "outputId": "b31e01ae-0ab1-48ea-b8ae-e7fe242147ed"
      },
      "cell_type": "code",
      "source": [
        "!ls"
      ],
      "execution_count": 53,
      "outputs": [
        {
          "output_type": "stream",
          "text": [
            "final_data.txt\tseason1  season3  season5  season7\n",
            "sample_data\tseason2  season4  season6  test.txt\n"
          ],
          "name": "stdout"
        }
      ]
    },
    {
      "metadata": {
        "id": "OThngnhbia72",
        "colab_type": "code",
        "colab": {}
      },
      "cell_type": "code",
      "source": [
        ""
      ],
      "execution_count": 0,
      "outputs": []
    }
  ]
}